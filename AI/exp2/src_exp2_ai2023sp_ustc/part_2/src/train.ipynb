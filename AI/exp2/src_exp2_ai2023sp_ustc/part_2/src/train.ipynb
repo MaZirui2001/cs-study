{
 "cells": [
  {
   "cell_type": "markdown",
   "metadata": {},
   "source": [
    "# Transformer"
   ]
  },
  {
   "cell_type": "markdown",
   "metadata": {},
   "source": [
    "## 引用库"
   ]
  },
  {
   "cell_type": "code",
   "execution_count": 45,
   "metadata": {
    "collapsed": false,
    "is_executing": true,
    "jupyter": {
     "outputs_hidden": false
    }
   },
   "outputs": [],
   "source": [
    "import torch\n",
    "import torch.nn as nn\n",
    "import torch.nn.functional as F\n",
    "from typing import List"
   ]
  },
  {
   "cell_type": "markdown",
   "metadata": {},
   "source": [
    "## char_tokenizer"
   ]
  },
  {
   "cell_type": "code",
   "execution_count": 46,
   "metadata": {
    "collapsed": false,
    "jupyter": {
     "outputs_hidden": false
    }
   },
   "outputs": [],
   "source": [
    "class char_tokenizer:\n",
    "    \"\"\"\n",
    "    a very simple char-based tokenizer. the tokenizer turns a string into a list of integers.\n",
    "    \"\"\"\n",
    "\n",
    "    def __init__(self, corpus: List[str]):\n",
    "        self.corpus = corpus\n",
    "        # TODO: calculate the vocab size and create a dictionary that maps each character to a unique integer\n",
    "        # calculate the vocab size\n",
    "        self.n_vocab = len(set(\"\".join(corpus)))\n",
    "        # create a dictionary that maps each character to a unique integer\n",
    "        self.char2int = {char: i for i, char in enumerate(set(\"\".join(corpus)))}\n",
    "        # End of your code\n",
    "\n",
    "    def encode(self, string: str):\n",
    "        # TODO: convert a string into a list of integers and return, using the dictionary you created above\n",
    "        # convert a string into a list of integers\n",
    "        encoded = [self.char2int[char] for char in string]\n",
    "        return encoded\n",
    "        # End of your code\n",
    "\n",
    "    def decode(self, codes: List[int]):\n",
    "        # TODO: convert a list of integers into a string and return, using the dictionary you created above\n",
    "        # convert a list of integers into a string\n",
    "        decoded = [list(self.char2int.keys())[list(self.char2int.values()).index(code)] for code in codes]\n",
    "        return \"\".join(decoded)\n",
    "        # End of your code"
   ]
  },
  {
   "cell_type": "markdown",
   "metadata": {},
   "source": [
    "## Head"
   ]
  },
  {
   "cell_type": "code",
   "execution_count": 47,
   "metadata": {
    "collapsed": false,
    "jupyter": {
     "outputs_hidden": false
    }
   },
   "outputs": [],
   "source": [
    "class Head(nn.Module):\n",
    "    \"\"\"single head of self-attention\"\"\"\n",
    "\n",
    "    def __init__(self, head_size):\n",
    "        super().__init__()\n",
    "        # TODO: create three linear layers, Key, Query, and Value, each of which maps from n_embd to head_size\n",
    "        #       and assign them to self.Key, self.Query, and self.Value, respectively\n",
    "        # create three linear layers\n",
    "\n",
    "        self.Key = nn.Linear(n_embd, head_size)\n",
    "        self.Query = nn.Linear(n_embd, head_size)\n",
    "        self.Value = nn.Linear(n_embd, head_size)\n",
    "        # End of your code\n",
    "        self.register_buffer(\"tril\", torch.tril(torch.ones(block_size, block_size)))\n",
    "\n",
    "    def forward(self, inputs):\n",
    "        # TODO: implement the forward function of the head\n",
    "        #       the input is a tensor of shape (batch, time, n_embd)\n",
    "        #       the output should be a tensor of shape (batch, time, head_size)\n",
    "        #       you may use the tril buffer defined above to mask out the upper triangular part of the affinity matrix\n",
    "\n",
    "        # Key:(batch, time, head_size)\n",
    "        Key = self.Key(inputs)\n",
    "        # Query:(batch, time, head_size)\n",
    "        Query = self.Query(inputs)\n",
    "        # Value:(batch, time, head_size)\n",
    "        Value = self.Value(inputs)\n",
    "        # affinity:(batch, time, time)\n",
    "        affinity = torch.matmul(Query, Key.transpose(-1, -2)) / (Key.size(-1) ** 0.5)\n",
    "        time = inputs.size(1)\n",
    "        affinity = affinity.masked_fill(self.tril[:time, :time] == 0, -torch.inf)\n",
    "        affinity = F.softmax(affinity, dim=-1)\n",
    "        # out:(batch, time, head_size)\n",
    "        out = torch.matmul(affinity, Value)\n",
    "        # End of your code\n",
    "        return out\n"
   ]
  },
  {
   "cell_type": "markdown",
   "metadata": {},
   "source": [
    "## MultiHeadAttention"
   ]
  },
  {
   "cell_type": "code",
   "execution_count": 48,
   "metadata": {
    "collapsed": false,
    "jupyter": {
     "outputs_hidden": false
    }
   },
   "outputs": [],
   "source": [
    "class MultiHeadAttention(nn.Module):\n",
    "    def __init__(self, n_heads, head_size):\n",
    "        super().__init__()\n",
    "        # TODO: implement heads and projection\n",
    "        # heads: a list of heads\n",
    "        # projection: a linear layer that maps from n_heads * head_size to n_embd\n",
    "        # create a list of heads\n",
    "        self.heads = nn.ModuleList([Head(head_size) for _ in range(n_heads)])\n",
    "        # create a linear layer that maps from n_heads * head_size to n_embd\n",
    "        self.projection = nn.Linear(n_heads * head_size, n_embd)\n",
    "        # End of your code\n",
    "\n",
    "    def forward(self, inputs):\n",
    "        # TODO: implement the forward function of the multi-head attention\n",
    "        out = torch.cat([head(inputs) for head in self.heads], dim=-1)\n",
    "        return self.projection(out)\n"
   ]
  },
  {
   "cell_type": "markdown",
   "metadata": {},
   "source": [
    "## FeedForward"
   ]
  },
  {
   "cell_type": "code",
   "execution_count": 49,
   "metadata": {
    "collapsed": false,
    "jupyter": {
     "outputs_hidden": false
    }
   },
   "outputs": [],
   "source": [
    "class FeedForward(nn.Module):\n",
    "    def __init__(self, n_embd):\n",
    "        super().__init__()\n",
    "        # TODO: implement the feed-forward network\n",
    "        self.net = nn.Sequential(\n",
    "            nn.Linear(n_embd, 16 * n_embd),\n",
    "            nn.ReLU(),\n",
    "            nn.Linear(16 * n_embd, n_embd),\n",
    "        )\n",
    "        # End of your code\n",
    "\n",
    "    def forward(self, inputs):\n",
    "        return self.net(inputs)\n",
    "\n"
   ]
  },
  {
   "cell_type": "markdown",
   "metadata": {},
   "source": [
    "## Block"
   ]
  },
  {
   "cell_type": "code",
   "execution_count": 50,
   "metadata": {
    "collapsed": false,
    "jupyter": {
     "outputs_hidden": false
    }
   },
   "outputs": [],
   "source": [
    "class Block(nn.Module):\n",
    "    def __init__(self, n_embd, n_heads):\n",
    "        super().__init__()\n",
    "        # TODO: implement the block of transformer using the MultiHeadAttention and\n",
    "        #       FeedForward modules, along with the layer normalization layers\n",
    "        # create a layer normalization layer\n",
    "        self.norm1 = nn.LayerNorm(n_embd)\n",
    "        # create a multi-head attention layer\n",
    "        self.attn = MultiHeadAttention(n_heads, n_embd // n_heads)\n",
    "        # create another layer normalization layer\n",
    "        self.norm2 = nn.LayerNorm(n_embd)\n",
    "        # create a feed-forward network layer\n",
    "        self.ff = FeedForward(n_embd)\n",
    "        # End of your code\n",
    "\n",
    "    def forward(self, inputs):\n",
    "        # TODO: implement the forward function of the block, you may refer to the docs of this experiment\n",
    "        # inputs:(batch, time, n_embd)\n",
    "        # out1:(batch, time, n_embd)\n",
    "        out1 = self.norm1(inputs + self.attn(inputs))\n",
    "        # out2:(batch, time, n_embd)\n",
    "        out2 = self.norm2(out1 + self.ff(out1))\n",
    "        # End of your code\n",
    "        return out2\n"
   ]
  },
  {
   "cell_type": "markdown",
   "metadata": {
    "collapsed": false
   },
   "source": [
    "## PositionalEncoding"
   ]
  },
  {
   "cell_type": "code",
   "execution_count": 51,
   "metadata": {
    "collapsed": false
   },
   "outputs": [],
   "source": [
    "class PositionalEncoding(nn.Module):\n",
    "    def __init__(self, n_embd):\n",
    "        super().__init__()\n",
    "        self.n_embd = n_embd\n",
    "        self.encoding = torch.zeros(block_size, n_embd)\n",
    "        self.encoding.requires_grad = False\n",
    "        pos = torch.arange(0, block_size).unsqueeze(1)\n",
    "        step = torch.arange(0, n_embd, 2).float()\n",
    "        self.encoding[:, 0::2] = torch.sin(pos / 10000 ** (step / n_embd))\n",
    "        self.encoding[:, 1::2] = torch.cos(pos / 10000 ** (step / n_embd))\n",
    "\n",
    "    def forward(self, inputs):\n",
    "        batch, time = inputs.shape\n",
    "        return self.encoding[:time, :]"
   ]
  },
  {
   "cell_type": "markdown",
   "metadata": {},
   "source": [
    "## Transformer"
   ]
  },
  {
   "cell_type": "code",
   "execution_count": 52,
   "metadata": {
    "collapsed": false,
    "jupyter": {
     "outputs_hidden": false
    }
   },
   "outputs": [],
   "source": [
    "class Transformer(nn.Module):\n",
    "    def __init__(self):\n",
    "        super().__init__()\n",
    "        # TODO: create the embedding table, the stack of blocks, the layer normalization layer, and the linear layers.\n",
    "        #       assign them to self.embedding, self.blocks, self.norm, and self.linear, respectively\n",
    "        # create the embedding table\n",
    "        self.embedding = nn.Embedding(n_vocab, n_embd)\n",
    "        # create the stack of blocks\n",
    "        self.blocks = nn.Sequential(*[Block(n_embd, n_heads) for _ in range(n_layers)])\n",
    "        # create the layer normalization layer\n",
    "        self.norm = nn.LayerNorm(n_embd)\n",
    "        # create the linear layers\n",
    "        self.linear = nn.Linear(n_embd, n_vocab)\n",
    "\n",
    "        self.positional_encoding = PositionalEncoding(n_embd)\n",
    "        # End of your code\n",
    "\n",
    "    def forward(self, inputs, labels=None):\n",
    "        # TODO: implement the forward function of the transformer\n",
    "\n",
    "        # embedding:(batch, context, embedding)\n",
    "        embedding = self.embedding(inputs)\n",
    "\n",
    "        positional_encoding = self.positional_encoding(inputs)\n",
    "        # attens:(batch, context, embedding)\n",
    "        attens = self.blocks(embedding + positional_encoding)\n",
    "\n",
    "        # attens:(batch, context, embedding)\n",
    "        attens = self.blocks(embedding)\n",
    "\n",
    "        # attens:(batch, context, embedding)\n",
    "        attens = self.norm(attens)\n",
    "\n",
    "        # logits:(batch, context, attens)\n",
    "        logits = self.linear(attens)\n",
    "\n",
    "        # End of your code\n",
    "\n",
    "        # compute the loss\n",
    "\n",
    "        if labels is None:\n",
    "            loss = None\n",
    "        else:\n",
    "            batch, time, channel = logits.shape\n",
    "            logits = logits.view(batch * time, channel)\n",
    "            labels = labels.view(batch * time)\n",
    "            loss = F.cross_entropy(logits, labels)\n",
    "        return logits, loss\n",
    "    def generate(self, inputs, max_new_tokens):\n",
    "        # TODO: generate new tokens from the transformer, using the inputs as the context,\n",
    "        #  and return the generated tokens with length of max_new_tokens\n",
    "        for _ in range(max_new_tokens):\n",
    "            # generates new tokens by iteratively sampling from the model's predicted probability distribution,\n",
    "            # concatenating the sampled tokens to the input sequence, and returning the updated sequence.\n",
    "            # inputs:(batch, context)\n",
    "            batch, time = inputs.shape\n",
    "            # logits:(batch, context, attens)\n",
    "            logits, _ = self.forward(inputs[:, max(0, time+1-block_size):time+1])\n",
    "            # logits:(batch, context)\n",
    "            logits = logits[:, -1, :]\n",
    "             # logits:(batch, 1)\n",
    "            logits = torch.softmax(logits, dim=-1)\n",
    "            # logits:(batch, 1)\n",
    "            logits = torch.multinomial(logits, num_samples=1)\n",
    "            # logits:(batch, 1)\n",
    "            logits = logits.view(batch, 1)\n",
    "            # inputs:(batch, context+1)\n",
    "            inputs = torch.cat([inputs, logits], dim=-1)\n",
    "\n",
    "            # End of your code\n",
    "        return inputs"
   ]
  },
  {
   "cell_type": "markdown",
   "metadata": {},
   "source": [
    "## Training"
   ]
  },
  {
   "cell_type": "code",
   "execution_count": 53,
   "metadata": {
    "collapsed": false,
    "jupyter": {
     "outputs_hidden": false
    }
   },
   "outputs": [],
   "source": [
    "def get_batch(split):\n",
    "    data = train_data if split == \"train\" else val_data\n",
    "    ix = torch.randint(len(data) - block_size, (batch_size,))\n",
    "    x = torch.stack([data[i: i + block_size] for i in ix])\n",
    "    y = torch.stack([data[i + 1: i + block_size + 1] for i in ix])\n",
    "    x, y = x.to(device), y.to(device)\n",
    "    return x, y\n",
    "\n",
    "\n",
    "@torch.no_grad()\n",
    "def estimate_loss(model):\n",
    "    out = {}\n",
    "    model.eval()\n",
    "    for split in [\"train\", \"val\"]:\n",
    "        losses = torch.zeros(eval_iters)\n",
    "        for k in range(eval_iters):\n",
    "            x, y = get_batch(split)\n",
    "            logits, loss = model(x, y)\n",
    "            losses[k] = loss.item()\n",
    "        out[split] = losses.mean()\n",
    "    return out\n",
    "\n",
    "\n",
    "def generate(model):\n",
    "    context_test = \"Thoughts high for one \"\n",
    "    context = torch.tensor([tokenizer.encode(context_test)], device=device, dtype=torch.long)\n",
    "    print(decode(model.generate(context, max_new_tokens=10)[0].tolist()))\n",
    "\n",
    "\n",
    "def train(model):\n",
    "    optimizer = torch.optim.AdamW(model.parameters(), lr=learning_rate)\n",
    "\n",
    "    for iter in range(max_iters):\n",
    "\n",
    "        if iter % eval_interval == 0:\n",
    "            losses = estimate_loss(model)\n",
    "            print(\n",
    "                f\"step {iter}: train loss {losses['train']:.4f}, val loss {losses['val']:.4f}\"\n",
    "            )\n",
    "\n",
    "        inputs, labels = get_batch(\"train\")\n",
    "\n",
    "        logits, loss = model(inputs, labels)\n",
    "        optimizer.zero_grad(set_to_none=True)\n",
    "        loss.backward()\n",
    "        optimizer.step()\n",
    "\n"
   ]
  },
  {
   "cell_type": "markdown",
   "metadata": {},
   "source": [
    "## 定义参数"
   ]
  },
  {
   "cell_type": "code",
   "execution_count": 54,
   "metadata": {
    "collapsed": false,
    "jupyter": {
     "outputs_hidden": false
    }
   },
   "outputs": [],
   "source": [
    "# define the hyperparameters\n",
    "batch_size = 16\n",
    "block_size = 256\n",
    "max_iters = 5000  # set the number of training iterations as you like\n",
    "eval_interval = 50\n",
    "learning_rate = 1e-3\n",
    "device = \"cuda\" if torch.cuda.is_available() else \"cpu\"\n",
    "eval_iters = 200\n",
    "n_embd = 64\n",
    "n_heads = 8\n",
    "n_layers = 6"
   ]
  },
  {
   "cell_type": "markdown",
   "metadata": {},
   "source": [
    "## 读取数据"
   ]
  },
  {
   "cell_type": "code",
   "execution_count": 55,
   "metadata": {
    "collapsed": false,
    "jupyter": {
     "outputs_hidden": false
    }
   },
   "outputs": [],
   "source": [
    "# read the dataset\n",
    "with open(\"../data/input.txt\", \"r\", encoding=\"utf-8\") as f:\n",
    "    text = f.read()\n",
    "chars = sorted(list(set(text)))\n",
    "\n",
    "# initialize the vocabulary\n",
    "tokenizer = char_tokenizer(chars)\n",
    "encode = tokenizer.encode\n",
    "decode = tokenizer.decode\n",
    "n_vocab = tokenizer.n_vocab\n",
    "\n",
    "# separate the dataset into train and validation\n",
    "train_data = torch.tensor(encode(text[: -len(text) // 10]), dtype=torch.long)\n",
    "val_data = torch.tensor(encode(text[-len(text) // 10:]), dtype=torch.long)"
   ]
  },
  {
   "cell_type": "markdown",
   "metadata": {},
   "source": [
    "## 定义模型"
   ]
  },
  {
   "cell_type": "code",
   "execution_count": 56,
   "metadata": {
    "collapsed": false,
    "jupyter": {
     "outputs_hidden": false
    }
   },
   "outputs": [],
   "source": [
    "model = Transformer().to(device)"
   ]
  },
  {
   "cell_type": "markdown",
   "metadata": {},
   "source": [
    "## 训练模型"
   ]
  },
  {
   "cell_type": "code",
   "execution_count": 57,
   "metadata": {},
   "outputs": [
    {
     "name": "stdout",
     "output_type": "stream",
     "text": [
      "step 0: train loss 4.3639, val loss 4.3649\n",
      "step 50: train loss 2.6027, val loss 2.6049\n",
      "step 100: train loss 2.5292, val loss 2.5316\n",
      "step 150: train loss 2.4935, val loss 2.5059\n",
      "step 200: train loss 2.4751, val loss 2.4751\n"
     ]
    },
    {
     "ename": "KeyboardInterrupt",
     "evalue": "",
     "output_type": "error",
     "traceback": [
      "\u001b[1;31m---------------------------------------------------------------------------\u001b[0m",
      "\u001b[1;31mKeyboardInterrupt\u001b[0m                         Traceback (most recent call last)",
      "Cell \u001b[1;32mIn[57], line 1\u001b[0m\n\u001b[1;32m----> 1\u001b[0m train(model)\n",
      "Cell \u001b[1;32mIn[53], line 36\u001b[0m, in \u001b[0;36mtrain\u001b[1;34m(model)\u001b[0m\n\u001b[0;32m     33\u001b[0m \u001b[39mfor\u001b[39;00m \u001b[39miter\u001b[39m \u001b[39min\u001b[39;00m \u001b[39mrange\u001b[39m(max_iters):\n\u001b[0;32m     35\u001b[0m     \u001b[39mif\u001b[39;00m \u001b[39miter\u001b[39m \u001b[39m%\u001b[39m eval_interval \u001b[39m==\u001b[39m \u001b[39m0\u001b[39m:\n\u001b[1;32m---> 36\u001b[0m         losses \u001b[39m=\u001b[39m estimate_loss(model)\n\u001b[0;32m     37\u001b[0m         \u001b[39mprint\u001b[39m(\n\u001b[0;32m     38\u001b[0m             \u001b[39mf\u001b[39m\u001b[39m\"\u001b[39m\u001b[39mstep \u001b[39m\u001b[39m{\u001b[39;00m\u001b[39miter\u001b[39m\u001b[39m}\u001b[39;00m\u001b[39m: train loss \u001b[39m\u001b[39m{\u001b[39;00mlosses[\u001b[39m'\u001b[39m\u001b[39mtrain\u001b[39m\u001b[39m'\u001b[39m]\u001b[39m:\u001b[39;00m\u001b[39m.4f\u001b[39m\u001b[39m}\u001b[39;00m\u001b[39m, val loss \u001b[39m\u001b[39m{\u001b[39;00mlosses[\u001b[39m'\u001b[39m\u001b[39mval\u001b[39m\u001b[39m'\u001b[39m]\u001b[39m:\u001b[39;00m\u001b[39m.4f\u001b[39m\u001b[39m}\u001b[39;00m\u001b[39m\"\u001b[39m\n\u001b[0;32m     39\u001b[0m         )\n\u001b[0;32m     41\u001b[0m     inputs, labels \u001b[39m=\u001b[39m get_batch(\u001b[39m\"\u001b[39m\u001b[39mtrain\u001b[39m\u001b[39m\"\u001b[39m)\n",
      "File \u001b[1;32m~\\AppData\\Local\\Packages\\PythonSoftwareFoundation.Python.3.10_qbz5n2kfra8p0\\LocalCache\\local-packages\\Python310\\site-packages\\torch\\utils\\_contextlib.py:115\u001b[0m, in \u001b[0;36mcontext_decorator.<locals>.decorate_context\u001b[1;34m(*args, **kwargs)\u001b[0m\n\u001b[0;32m    112\u001b[0m \u001b[39m@functools\u001b[39m\u001b[39m.\u001b[39mwraps(func)\n\u001b[0;32m    113\u001b[0m \u001b[39mdef\u001b[39;00m \u001b[39mdecorate_context\u001b[39m(\u001b[39m*\u001b[39margs, \u001b[39m*\u001b[39m\u001b[39m*\u001b[39mkwargs):\n\u001b[0;32m    114\u001b[0m     \u001b[39mwith\u001b[39;00m ctx_factory():\n\u001b[1;32m--> 115\u001b[0m         \u001b[39mreturn\u001b[39;00m func(\u001b[39m*\u001b[39margs, \u001b[39m*\u001b[39m\u001b[39m*\u001b[39mkwargs)\n",
      "Cell \u001b[1;32mIn[53], line 18\u001b[0m, in \u001b[0;36mestimate_loss\u001b[1;34m(model)\u001b[0m\n\u001b[0;32m     16\u001b[0m \u001b[39mfor\u001b[39;00m k \u001b[39min\u001b[39;00m \u001b[39mrange\u001b[39m(eval_iters):\n\u001b[0;32m     17\u001b[0m     x, y \u001b[39m=\u001b[39m get_batch(split)\n\u001b[1;32m---> 18\u001b[0m     logits, loss \u001b[39m=\u001b[39m model(x, y)\n\u001b[0;32m     19\u001b[0m     losses[k] \u001b[39m=\u001b[39m loss\u001b[39m.\u001b[39mitem()\n\u001b[0;32m     20\u001b[0m out[split] \u001b[39m=\u001b[39m losses\u001b[39m.\u001b[39mmean()\n",
      "File \u001b[1;32m~\\AppData\\Local\\Packages\\PythonSoftwareFoundation.Python.3.10_qbz5n2kfra8p0\\LocalCache\\local-packages\\Python310\\site-packages\\torch\\nn\\modules\\module.py:1501\u001b[0m, in \u001b[0;36mModule._call_impl\u001b[1;34m(self, *args, **kwargs)\u001b[0m\n\u001b[0;32m   1496\u001b[0m \u001b[39m# If we don't have any hooks, we want to skip the rest of the logic in\u001b[39;00m\n\u001b[0;32m   1497\u001b[0m \u001b[39m# this function, and just call forward.\u001b[39;00m\n\u001b[0;32m   1498\u001b[0m \u001b[39mif\u001b[39;00m \u001b[39mnot\u001b[39;00m (\u001b[39mself\u001b[39m\u001b[39m.\u001b[39m_backward_hooks \u001b[39mor\u001b[39;00m \u001b[39mself\u001b[39m\u001b[39m.\u001b[39m_backward_pre_hooks \u001b[39mor\u001b[39;00m \u001b[39mself\u001b[39m\u001b[39m.\u001b[39m_forward_hooks \u001b[39mor\u001b[39;00m \u001b[39mself\u001b[39m\u001b[39m.\u001b[39m_forward_pre_hooks\n\u001b[0;32m   1499\u001b[0m         \u001b[39mor\u001b[39;00m _global_backward_pre_hooks \u001b[39mor\u001b[39;00m _global_backward_hooks\n\u001b[0;32m   1500\u001b[0m         \u001b[39mor\u001b[39;00m _global_forward_hooks \u001b[39mor\u001b[39;00m _global_forward_pre_hooks):\n\u001b[1;32m-> 1501\u001b[0m     \u001b[39mreturn\u001b[39;00m forward_call(\u001b[39m*\u001b[39margs, \u001b[39m*\u001b[39m\u001b[39m*\u001b[39mkwargs)\n\u001b[0;32m   1502\u001b[0m \u001b[39m# Do not call functions when jit is used\u001b[39;00m\n\u001b[0;32m   1503\u001b[0m full_backward_hooks, non_full_backward_hooks \u001b[39m=\u001b[39m [], []\n",
      "Cell \u001b[1;32mIn[52], line 26\u001b[0m, in \u001b[0;36mTransformer.forward\u001b[1;34m(self, inputs, labels)\u001b[0m\n\u001b[0;32m     24\u001b[0m positional_encoding \u001b[39m=\u001b[39m \u001b[39mself\u001b[39m\u001b[39m.\u001b[39mpositional_encoding(inputs)\n\u001b[0;32m     25\u001b[0m \u001b[39m# attens:(batch, context, embedding)\u001b[39;00m\n\u001b[1;32m---> 26\u001b[0m attens \u001b[39m=\u001b[39m \u001b[39mself\u001b[39;49m\u001b[39m.\u001b[39;49mblocks(embedding \u001b[39m+\u001b[39;49m positional_encoding)\n\u001b[0;32m     28\u001b[0m \u001b[39m# attens:(batch, context, embedding)\u001b[39;00m\n\u001b[0;32m     29\u001b[0m attens \u001b[39m=\u001b[39m \u001b[39mself\u001b[39m\u001b[39m.\u001b[39mblocks(embedding)\n",
      "File \u001b[1;32m~\\AppData\\Local\\Packages\\PythonSoftwareFoundation.Python.3.10_qbz5n2kfra8p0\\LocalCache\\local-packages\\Python310\\site-packages\\torch\\nn\\modules\\module.py:1501\u001b[0m, in \u001b[0;36mModule._call_impl\u001b[1;34m(self, *args, **kwargs)\u001b[0m\n\u001b[0;32m   1496\u001b[0m \u001b[39m# If we don't have any hooks, we want to skip the rest of the logic in\u001b[39;00m\n\u001b[0;32m   1497\u001b[0m \u001b[39m# this function, and just call forward.\u001b[39;00m\n\u001b[0;32m   1498\u001b[0m \u001b[39mif\u001b[39;00m \u001b[39mnot\u001b[39;00m (\u001b[39mself\u001b[39m\u001b[39m.\u001b[39m_backward_hooks \u001b[39mor\u001b[39;00m \u001b[39mself\u001b[39m\u001b[39m.\u001b[39m_backward_pre_hooks \u001b[39mor\u001b[39;00m \u001b[39mself\u001b[39m\u001b[39m.\u001b[39m_forward_hooks \u001b[39mor\u001b[39;00m \u001b[39mself\u001b[39m\u001b[39m.\u001b[39m_forward_pre_hooks\n\u001b[0;32m   1499\u001b[0m         \u001b[39mor\u001b[39;00m _global_backward_pre_hooks \u001b[39mor\u001b[39;00m _global_backward_hooks\n\u001b[0;32m   1500\u001b[0m         \u001b[39mor\u001b[39;00m _global_forward_hooks \u001b[39mor\u001b[39;00m _global_forward_pre_hooks):\n\u001b[1;32m-> 1501\u001b[0m     \u001b[39mreturn\u001b[39;00m forward_call(\u001b[39m*\u001b[39margs, \u001b[39m*\u001b[39m\u001b[39m*\u001b[39mkwargs)\n\u001b[0;32m   1502\u001b[0m \u001b[39m# Do not call functions when jit is used\u001b[39;00m\n\u001b[0;32m   1503\u001b[0m full_backward_hooks, non_full_backward_hooks \u001b[39m=\u001b[39m [], []\n",
      "File \u001b[1;32m~\\AppData\\Local\\Packages\\PythonSoftwareFoundation.Python.3.10_qbz5n2kfra8p0\\LocalCache\\local-packages\\Python310\\site-packages\\torch\\nn\\modules\\container.py:217\u001b[0m, in \u001b[0;36mSequential.forward\u001b[1;34m(self, input)\u001b[0m\n\u001b[0;32m    215\u001b[0m \u001b[39mdef\u001b[39;00m \u001b[39mforward\u001b[39m(\u001b[39mself\u001b[39m, \u001b[39minput\u001b[39m):\n\u001b[0;32m    216\u001b[0m     \u001b[39mfor\u001b[39;00m module \u001b[39min\u001b[39;00m \u001b[39mself\u001b[39m:\n\u001b[1;32m--> 217\u001b[0m         \u001b[39minput\u001b[39m \u001b[39m=\u001b[39m module(\u001b[39minput\u001b[39;49m)\n\u001b[0;32m    218\u001b[0m     \u001b[39mreturn\u001b[39;00m \u001b[39minput\u001b[39m\n",
      "File \u001b[1;32m~\\AppData\\Local\\Packages\\PythonSoftwareFoundation.Python.3.10_qbz5n2kfra8p0\\LocalCache\\local-packages\\Python310\\site-packages\\torch\\nn\\modules\\module.py:1501\u001b[0m, in \u001b[0;36mModule._call_impl\u001b[1;34m(self, *args, **kwargs)\u001b[0m\n\u001b[0;32m   1496\u001b[0m \u001b[39m# If we don't have any hooks, we want to skip the rest of the logic in\u001b[39;00m\n\u001b[0;32m   1497\u001b[0m \u001b[39m# this function, and just call forward.\u001b[39;00m\n\u001b[0;32m   1498\u001b[0m \u001b[39mif\u001b[39;00m \u001b[39mnot\u001b[39;00m (\u001b[39mself\u001b[39m\u001b[39m.\u001b[39m_backward_hooks \u001b[39mor\u001b[39;00m \u001b[39mself\u001b[39m\u001b[39m.\u001b[39m_backward_pre_hooks \u001b[39mor\u001b[39;00m \u001b[39mself\u001b[39m\u001b[39m.\u001b[39m_forward_hooks \u001b[39mor\u001b[39;00m \u001b[39mself\u001b[39m\u001b[39m.\u001b[39m_forward_pre_hooks\n\u001b[0;32m   1499\u001b[0m         \u001b[39mor\u001b[39;00m _global_backward_pre_hooks \u001b[39mor\u001b[39;00m _global_backward_hooks\n\u001b[0;32m   1500\u001b[0m         \u001b[39mor\u001b[39;00m _global_forward_hooks \u001b[39mor\u001b[39;00m _global_forward_pre_hooks):\n\u001b[1;32m-> 1501\u001b[0m     \u001b[39mreturn\u001b[39;00m forward_call(\u001b[39m*\u001b[39margs, \u001b[39m*\u001b[39m\u001b[39m*\u001b[39mkwargs)\n\u001b[0;32m   1502\u001b[0m \u001b[39m# Do not call functions when jit is used\u001b[39;00m\n\u001b[0;32m   1503\u001b[0m full_backward_hooks, non_full_backward_hooks \u001b[39m=\u001b[39m [], []\n",
      "Cell \u001b[1;32mIn[50], line 20\u001b[0m, in \u001b[0;36mBlock.forward\u001b[1;34m(self, inputs)\u001b[0m\n\u001b[0;32m     16\u001b[0m \u001b[39mdef\u001b[39;00m \u001b[39mforward\u001b[39m(\u001b[39mself\u001b[39m, inputs):\n\u001b[0;32m     17\u001b[0m     \u001b[39m# TODO: implement the forward function of the block, you may refer to the docs of this experiment\u001b[39;00m\n\u001b[0;32m     18\u001b[0m     \u001b[39m# inputs:(batch, time, n_embd)\u001b[39;00m\n\u001b[0;32m     19\u001b[0m     \u001b[39m# out1:(batch, time, n_embd)\u001b[39;00m\n\u001b[1;32m---> 20\u001b[0m     out1 \u001b[39m=\u001b[39m \u001b[39mself\u001b[39m\u001b[39m.\u001b[39mnorm1(inputs \u001b[39m+\u001b[39m \u001b[39mself\u001b[39;49m\u001b[39m.\u001b[39;49mattn(inputs))\n\u001b[0;32m     21\u001b[0m     \u001b[39m# out2:(batch, time, n_embd)\u001b[39;00m\n\u001b[0;32m     22\u001b[0m     out2 \u001b[39m=\u001b[39m \u001b[39mself\u001b[39m\u001b[39m.\u001b[39mnorm2(out1 \u001b[39m+\u001b[39m \u001b[39mself\u001b[39m\u001b[39m.\u001b[39mff(out1))\n",
      "File \u001b[1;32m~\\AppData\\Local\\Packages\\PythonSoftwareFoundation.Python.3.10_qbz5n2kfra8p0\\LocalCache\\local-packages\\Python310\\site-packages\\torch\\nn\\modules\\module.py:1501\u001b[0m, in \u001b[0;36mModule._call_impl\u001b[1;34m(self, *args, **kwargs)\u001b[0m\n\u001b[0;32m   1496\u001b[0m \u001b[39m# If we don't have any hooks, we want to skip the rest of the logic in\u001b[39;00m\n\u001b[0;32m   1497\u001b[0m \u001b[39m# this function, and just call forward.\u001b[39;00m\n\u001b[0;32m   1498\u001b[0m \u001b[39mif\u001b[39;00m \u001b[39mnot\u001b[39;00m (\u001b[39mself\u001b[39m\u001b[39m.\u001b[39m_backward_hooks \u001b[39mor\u001b[39;00m \u001b[39mself\u001b[39m\u001b[39m.\u001b[39m_backward_pre_hooks \u001b[39mor\u001b[39;00m \u001b[39mself\u001b[39m\u001b[39m.\u001b[39m_forward_hooks \u001b[39mor\u001b[39;00m \u001b[39mself\u001b[39m\u001b[39m.\u001b[39m_forward_pre_hooks\n\u001b[0;32m   1499\u001b[0m         \u001b[39mor\u001b[39;00m _global_backward_pre_hooks \u001b[39mor\u001b[39;00m _global_backward_hooks\n\u001b[0;32m   1500\u001b[0m         \u001b[39mor\u001b[39;00m _global_forward_hooks \u001b[39mor\u001b[39;00m _global_forward_pre_hooks):\n\u001b[1;32m-> 1501\u001b[0m     \u001b[39mreturn\u001b[39;00m forward_call(\u001b[39m*\u001b[39margs, \u001b[39m*\u001b[39m\u001b[39m*\u001b[39mkwargs)\n\u001b[0;32m   1502\u001b[0m \u001b[39m# Do not call functions when jit is used\u001b[39;00m\n\u001b[0;32m   1503\u001b[0m full_backward_hooks, non_full_backward_hooks \u001b[39m=\u001b[39m [], []\n",
      "Cell \u001b[1;32mIn[48], line 15\u001b[0m, in \u001b[0;36mMultiHeadAttention.forward\u001b[1;34m(self, inputs)\u001b[0m\n\u001b[0;32m     13\u001b[0m \u001b[39mdef\u001b[39;00m \u001b[39mforward\u001b[39m(\u001b[39mself\u001b[39m, inputs):\n\u001b[0;32m     14\u001b[0m     \u001b[39m# TODO: implement the forward function of the multi-head attention\u001b[39;00m\n\u001b[1;32m---> 15\u001b[0m     out \u001b[39m=\u001b[39m torch\u001b[39m.\u001b[39mcat([head(inputs) \u001b[39mfor\u001b[39;00m head \u001b[39min\u001b[39;00m \u001b[39mself\u001b[39m\u001b[39m.\u001b[39mheads], dim\u001b[39m=\u001b[39m\u001b[39m-\u001b[39m\u001b[39m1\u001b[39m)\n\u001b[0;32m     16\u001b[0m     \u001b[39mreturn\u001b[39;00m \u001b[39mself\u001b[39m\u001b[39m.\u001b[39mprojection(out)\n",
      "Cell \u001b[1;32mIn[48], line 15\u001b[0m, in \u001b[0;36m<listcomp>\u001b[1;34m(.0)\u001b[0m\n\u001b[0;32m     13\u001b[0m \u001b[39mdef\u001b[39;00m \u001b[39mforward\u001b[39m(\u001b[39mself\u001b[39m, inputs):\n\u001b[0;32m     14\u001b[0m     \u001b[39m# TODO: implement the forward function of the multi-head attention\u001b[39;00m\n\u001b[1;32m---> 15\u001b[0m     out \u001b[39m=\u001b[39m torch\u001b[39m.\u001b[39mcat([head(inputs) \u001b[39mfor\u001b[39;00m head \u001b[39min\u001b[39;00m \u001b[39mself\u001b[39m\u001b[39m.\u001b[39mheads], dim\u001b[39m=\u001b[39m\u001b[39m-\u001b[39m\u001b[39m1\u001b[39m)\n\u001b[0;32m     16\u001b[0m     \u001b[39mreturn\u001b[39;00m \u001b[39mself\u001b[39m\u001b[39m.\u001b[39mprojection(out)\n",
      "File \u001b[1;32m~\\AppData\\Local\\Packages\\PythonSoftwareFoundation.Python.3.10_qbz5n2kfra8p0\\LocalCache\\local-packages\\Python310\\site-packages\\torch\\nn\\modules\\module.py:1501\u001b[0m, in \u001b[0;36mModule._call_impl\u001b[1;34m(self, *args, **kwargs)\u001b[0m\n\u001b[0;32m   1496\u001b[0m \u001b[39m# If we don't have any hooks, we want to skip the rest of the logic in\u001b[39;00m\n\u001b[0;32m   1497\u001b[0m \u001b[39m# this function, and just call forward.\u001b[39;00m\n\u001b[0;32m   1498\u001b[0m \u001b[39mif\u001b[39;00m \u001b[39mnot\u001b[39;00m (\u001b[39mself\u001b[39m\u001b[39m.\u001b[39m_backward_hooks \u001b[39mor\u001b[39;00m \u001b[39mself\u001b[39m\u001b[39m.\u001b[39m_backward_pre_hooks \u001b[39mor\u001b[39;00m \u001b[39mself\u001b[39m\u001b[39m.\u001b[39m_forward_hooks \u001b[39mor\u001b[39;00m \u001b[39mself\u001b[39m\u001b[39m.\u001b[39m_forward_pre_hooks\n\u001b[0;32m   1499\u001b[0m         \u001b[39mor\u001b[39;00m _global_backward_pre_hooks \u001b[39mor\u001b[39;00m _global_backward_hooks\n\u001b[0;32m   1500\u001b[0m         \u001b[39mor\u001b[39;00m _global_forward_hooks \u001b[39mor\u001b[39;00m _global_forward_pre_hooks):\n\u001b[1;32m-> 1501\u001b[0m     \u001b[39mreturn\u001b[39;00m forward_call(\u001b[39m*\u001b[39margs, \u001b[39m*\u001b[39m\u001b[39m*\u001b[39mkwargs)\n\u001b[0;32m   1502\u001b[0m \u001b[39m# Do not call functions when jit is used\u001b[39;00m\n\u001b[0;32m   1503\u001b[0m full_backward_hooks, non_full_backward_hooks \u001b[39m=\u001b[39m [], []\n",
      "Cell \u001b[1;32mIn[47], line 32\u001b[0m, in \u001b[0;36mHead.forward\u001b[1;34m(self, inputs)\u001b[0m\n\u001b[0;32m     30\u001b[0m time \u001b[39m=\u001b[39m inputs\u001b[39m.\u001b[39msize(\u001b[39m1\u001b[39m)\n\u001b[0;32m     31\u001b[0m affinity \u001b[39m=\u001b[39m affinity\u001b[39m.\u001b[39mmasked_fill(\u001b[39mself\u001b[39m\u001b[39m.\u001b[39mtril[:time, :time] \u001b[39m==\u001b[39m \u001b[39m0\u001b[39m, \u001b[39m-\u001b[39mtorch\u001b[39m.\u001b[39minf)\n\u001b[1;32m---> 32\u001b[0m affinity \u001b[39m=\u001b[39m F\u001b[39m.\u001b[39;49msoftmax(affinity, dim\u001b[39m=\u001b[39;49m\u001b[39m-\u001b[39;49m\u001b[39m1\u001b[39;49m)\n\u001b[0;32m     33\u001b[0m \u001b[39m# out:(batch, time, head_size)\u001b[39;00m\n\u001b[0;32m     34\u001b[0m out \u001b[39m=\u001b[39m torch\u001b[39m.\u001b[39mmatmul(affinity, Value)\n",
      "File \u001b[1;32m~\\AppData\\Local\\Packages\\PythonSoftwareFoundation.Python.3.10_qbz5n2kfra8p0\\LocalCache\\local-packages\\Python310\\site-packages\\torch\\nn\\functional.py:1843\u001b[0m, in \u001b[0;36msoftmax\u001b[1;34m(input, dim, _stacklevel, dtype)\u001b[0m\n\u001b[0;32m   1841\u001b[0m     dim \u001b[39m=\u001b[39m _get_softmax_dim(\u001b[39m\"\u001b[39m\u001b[39msoftmax\u001b[39m\u001b[39m\"\u001b[39m, \u001b[39minput\u001b[39m\u001b[39m.\u001b[39mdim(), _stacklevel)\n\u001b[0;32m   1842\u001b[0m \u001b[39mif\u001b[39;00m dtype \u001b[39mis\u001b[39;00m \u001b[39mNone\u001b[39;00m:\n\u001b[1;32m-> 1843\u001b[0m     ret \u001b[39m=\u001b[39m \u001b[39minput\u001b[39;49m\u001b[39m.\u001b[39;49msoftmax(dim)\n\u001b[0;32m   1844\u001b[0m \u001b[39melse\u001b[39;00m:\n\u001b[0;32m   1845\u001b[0m     ret \u001b[39m=\u001b[39m \u001b[39minput\u001b[39m\u001b[39m.\u001b[39msoftmax(dim, dtype\u001b[39m=\u001b[39mdtype)\n",
      "\u001b[1;31mKeyboardInterrupt\u001b[0m: "
     ]
    }
   ],
   "source": [
    "train(model)"
   ]
  },
  {
   "cell_type": "markdown",
   "metadata": {},
   "source": [
    "## 生成文本"
   ]
  },
  {
   "cell_type": "code",
   "execution_count": null,
   "metadata": {
    "collapsed": false,
    "jupyter": {
     "outputs_hidden": false
    }
   },
   "outputs": [],
   "source": [
    "generate(model)"
   ]
  },
  {
   "cell_type": "code",
   "execution_count": null,
   "metadata": {},
   "outputs": [],
   "source": []
  }
 ],
 "metadata": {
  "kernelspec": {
   "display_name": "Python 3",
   "language": "python",
   "name": "python3"
  },
  "language_info": {
   "codemirror_mode": {
    "name": "ipython",
    "version": 3
   },
   "file_extension": ".py",
   "mimetype": "text/x-python",
   "name": "python",
   "nbconvert_exporter": "python",
   "pygments_lexer": "ipython3",
   "version": "3.10.11"
  }
 },
 "nbformat": 4,
 "nbformat_minor": 4
}
